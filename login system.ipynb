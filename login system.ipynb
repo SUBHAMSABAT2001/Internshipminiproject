{
 "cells": [
  {
   "cell_type": "code",
   "execution_count": 2,
   "id": "3645fd7f",
   "metadata": {},
   "outputs": [
    {
     "name": "stdout",
     "output_type": "stream",
     "text": [
      "Welcome to Employee System\n",
      "Please Enter Login id:  01\n",
      "Please Enter Password:  Subham\n",
      "Enter the id again: 01\n",
      "enter 1 to view details\n",
      "enter 2 to view all employees\n",
      "enter q to exit\n",
      "Enter your choice: 1\n",
      "01,Subham Sabat,01.09.02,Student,0\n",
      "\n",
      "enter 1 to view details\n",
      "enter 2 to view all employees\n",
      "enter q to exit\n",
      "Enter your choice: 2\n",
      "Enter designation: Student\n",
      "01,Subham Sabat,01.09.02,Student,0\n",
      "\n",
      "02,Subham Sabat,01.09.02,Student,0\n",
      "\n",
      "enter 1 to view details\n",
      "enter 2 to view all employees\n",
      "enter q to exit\n",
      "Enter your choice: q\n"
     ]
    }
   ],
   "source": [
    "import login"
   ]
  },
  {
   "cell_type": "code",
   "execution_count": null,
   "id": "36e833c5",
   "metadata": {},
   "outputs": [],
   "source": []
  }
 ],
 "metadata": {
  "kernelspec": {
   "display_name": "Python 3",
   "language": "python",
   "name": "python3"
  },
  "language_info": {
   "codemirror_mode": {
    "name": "ipython",
    "version": 3
   },
   "file_extension": ".py",
   "mimetype": "text/x-python",
   "name": "python",
   "nbconvert_exporter": "python",
   "pygments_lexer": "ipython3",
   "version": "3.8.8"
  }
 },
 "nbformat": 4,
 "nbformat_minor": 5
}
